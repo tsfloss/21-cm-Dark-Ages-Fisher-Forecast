{
 "cells": [
  {
   "cell_type": "markdown",
   "metadata": {},
   "source": [
    "# This notebook calculates the Fisher matrix for various primordial trispectra"
   ]
  },
  {
   "cell_type": "code",
   "execution_count": 1,
   "metadata": {},
   "outputs": [],
   "source": [
    "import numpy as np\n",
    "import vegas\n",
    "import matplotlib.pyplot as plt\n",
    "\n",
    "from trispectra import *\n",
    "from powerspectrum import *\n",
    "\n",
    "from scipy.interpolate import InterpolatedUnivariateSpline as interpolate\n",
    "from scipy import interpolate as intp\n",
    "from joblib import Parallel,  delayed\n",
    "\n",
    "%matplotlib inline\n",
    "\n",
    "plt.rcParams.update({'font.size': 12})\n",
    "\n",
    "n_jobs=-1 #define the number of threads to be used (-1 == all available)"
   ]
  },
  {
   "cell_type": "code",
   "execution_count": 2,
   "metadata": {},
   "outputs": [
    {
     "name": "stdout",
     "output_type": "stream",
     "text": [
      "2.1056e-09 0.9665 3.759422255898631e-08\n"
     ]
    }
   ],
   "source": [
    "print(As,ns,P(1))"
   ]
  },
  {
   "cell_type": "code",
   "execution_count": 3,
   "metadata": {},
   "outputs": [],
   "source": [
    "zs,rs = np.genfromtxt(\"comovingD.dat\").T\n",
    "\n",
    "VzTotal = 4.*np.pi/3. * (rs[-1]**3-rs[0]**3)"
   ]
  },
  {
   "cell_type": "code",
   "execution_count": 4,
   "metadata": {},
   "outputs": [],
   "source": [
    "def integrand(k,kmin,kmax,fn,fn2,mu,alpha0):\n",
    "    Fish = np.zeros(len(k))\n",
    "\n",
    "    k1 = kmin + (kmax-kmin)*k[:,0]\n",
    "    k2 = kmin + (k1-kmin)*k[:,1]\n",
    "    k3 = kmin + (k2-kmin)*k[:,2]\n",
    "    k4 = kmin + (k3-kmin)*k[:,3]\n",
    "    \n",
    "    K12min = np.fmax(kmin,k1-k2)\n",
    "    K14min = np.fmax(kmin,k1-k4)\n",
    "    K12 = K12min + (k1+k2-K12min)*k[:,4]\n",
    "    K14 = K14min + (k1+k4-K14min)*k[:,5]\n",
    "\n",
    "#     bools = trianglecondition(k1,k2,K12) #to check triangle conditions\n",
    "#     bools+= trianglecondition(k1,k4,K14) #but these are already satisfied by the choise of integration\n",
    "#     bools+= trianglecondition(k2,k3,K14)\n",
    "#     bools+= trianglecondition(k3,k4,K12)\n",
    "        \n",
    "    gfactor = g1(k1,k2,k3,k4,K12,K14)\n",
    "    bools = gfactor < 0 #check for places where the g1 factor is negative and cannot be taken sqrt of\n",
    "    \n",
    "    notbools = ~bools #invert all places where conditions are violated\n",
    "    \n",
    "    k1 = k1[notbools] #keep only places where conditions are not violated\n",
    "    k2 = k2[notbools]\n",
    "    k3 = k3[notbools]\n",
    "    k4 = k4[notbools]\n",
    "    K12 = K12[notbools]\n",
    "    K14 = K14[notbools]\n",
    "    K12min = K12min[notbools]\n",
    "    K14min = K14min[notbools]\n",
    "    gfactor = gfactor[notbools]\n",
    "    \n",
    "    K13 = np.sqrt(k1*k1 + k2*k2 + k3*k3 + k4*k4 - K12*K12 - K14*K14)\n",
    "    \n",
    "    bools  = trianglecondition(k1,k3,K13) #check final triangle conditions and ranges\n",
    "    bools += trianglecondition(k2,k4,K13)\n",
    "    bools += K13 > 2*kmax\n",
    "    bools += K13 < kmin\n",
    "\n",
    "    #calculate the fisher element\n",
    "    c1= fn(k1,k2,k3,k4,K12,K14,K13,mu,alpha0)\n",
    "    if fn2 == fn:\n",
    "        c2 = c1\n",
    "    else:\n",
    "        c2 = fn2(k1,k2,k3,k4,K12,K14,K13,mu,alpha0)\n",
    "\n",
    "        \n",
    "    dVol = k1*k2*k3*k4*K12*K14/np.sqrt(gfactor) * (kmax-kmin)* (k1-kmin) * (k2-kmin) * (k3-kmin) * (k1+k4-K14min) * (k1+k2-K12min)\n",
    "    result = c1*c2/ (2*np.pi)**3 / (2*np.pi**4) / P(k1)/P(k2)/P(k3)/P(k4)\n",
    "    result*= dVol\n",
    "    \n",
    "    result[bools] =0 #drop places where the last conditions are not met\n",
    "    Fish[notbools] = result #write to array at the places that were not violated\n",
    "    return Fish\n",
    "\n",
    "def Fisher(kmin,kmax,fn,fn2,mu=0,alpha0=0,rtol=1e-3,verbose=0):\n",
    "\n",
    "    @vegas.batchintegrand\n",
    "    def integrandbatch(k):\n",
    "        return integrand(k,kmin,kmax,fn,fn2,mu,alpha0)\n",
    "\n",
    "    integ = vegas.Integrator([[0,1],[0,1],[0,1],[0,1],[0,1],[0,1]])\n",
    "\n",
    "    pre = integ(integrandbatch,nitn=10,neval=1e6,rtol=rtol)\n",
    "    if verbose!=0:\n",
    "        print(pre.summary())\n",
    "    results = integ(integrandbatch,nitn=100,neval=1e6,rtol=rtol)\n",
    "    if verbose!=0:\n",
    "        print(results.summary())\n",
    "    mean = results.mean\n",
    "    sdev = results.sdev\n",
    "    rerr = np.abs(sdev/mean)\n",
    "    \n",
    "    return mean*VzTotal, rerr\n",
    "\n",
    "# %time Fisher(0.01,300,TtauNL,TtauNL,0.1,2,verbose=1)"
   ]
  },
  {
   "cell_type": "markdown",
   "metadata": {},
   "source": [
    "## Calculate the Fisher matrix for the common primordial shapes (local and equilateral)"
   ]
  },
  {
   "cell_type": "code",
   "execution_count": 5,
   "metadata": {},
   "outputs": [
    {
     "name": "stderr",
     "output_type": "stream",
     "text": [
      "[Parallel(n_jobs=-1)]: Using backend LokyBackend with 12 concurrent workers.\n",
      "[Parallel(n_jobs=-1)]: Done   8 out of  15 | elapsed:   50.9s remaining:   44.5s\n",
      "[Parallel(n_jobs=-1)]: Done  15 out of  15 | elapsed:  1.5min finished\n"
     ]
    }
   ],
   "source": [
    "shapes = [TtauNL,TgNL,Teq1,Teq2,Teq3]\n",
    "shapelabels = [\"TtauNL\",\"TgNL\",\"Teq1\",\"Teq2\",\"Teq3\"]\n",
    "nshapes = len(shapes)\n",
    "\n",
    "dataPrim = np.array(Parallel(n_jobs=n_jobs,verbose=1)([delayed(Fisher)(0.01,300,shapes[i],shapes[j],rtol=1e-3) for i in range(nshapes) for j in range(i,nshapes)]))\n",
    "\n",
    "FishPrim = np.zeros((5,5))\n",
    "\n",
    "a=0\n",
    "for i in range(5):\n",
    "    for j in range(i,5):\n",
    "        FishPrim[i,j]=FishPrim[j,i]= dataPrim[a,0]\n",
    "        a+=1"
   ]
  },
  {
   "cell_type": "markdown",
   "metadata": {},
   "source": [
    "### Below are the estimated error bars for the common shapes and their overlaps"
   ]
  },
  {
   "cell_type": "code",
   "execution_count": 6,
   "metadata": {},
   "outputs": [
    {
     "data": {
      "text/plain": [
       "[('TtauNL', 1.7955447810326952e-07),\n",
       " ('TgNL', 0.02664640818257004),\n",
       " ('Teq1', 0.22886373072172214),\n",
       " ('Teq2', 0.2541141362741325),\n",
       " ('Teq3', 0.06082958474468089)]"
      ]
     },
     "execution_count": 6,
     "metadata": {},
     "output_type": "execute_result"
    }
   ],
   "source": [
    "[(shapelabels[i],FishPrim[i,i]**(-1/2)) for i in range(5)]"
   ]
  },
  {
   "cell_type": "code",
   "execution_count": 7,
   "metadata": {},
   "outputs": [
    {
     "data": {
      "text/plain": [
       "[('TtauNL', 'TgNL', 1.0235145876871493e-05),\n",
       " ('TtauNL', 'Teq1', 1.2891532282221865e-05),\n",
       " ('TtauNL', 'Teq2', 1.596137340503374e-05),\n",
       " ('TtauNL', 'Teq3', 1.9179189994099464e-05),\n",
       " ('TgNL', 'Teq1', 0.14356501976097533),\n",
       " ('TgNL', 'Teq2', 0.11894703652555859),\n",
       " ('TgNL', 'Teq3', 0.06663238177873204),\n",
       " ('Teq1', 'Teq2', 0.9456422227797812),\n",
       " ('Teq1', 'Teq3', 0.65131177600036),\n",
       " ('Teq2', 'Teq3', 0.8234573923288065)]"
      ]
     },
     "execution_count": 7,
     "metadata": {},
     "output_type": "execute_result"
    }
   ],
   "source": [
    "[(shapelabels[i],shapelabels[j],FishPrim[i,j]/np.sqrt(FishPrim[i,i]*FishPrim[j,j])) for i in range(5) for j in range(i+1,5)]"
   ]
  },
  {
   "cell_type": "markdown",
   "metadata": {},
   "source": [
    "## Let's look at the clock template"
   ]
  },
  {
   "cell_type": "code",
   "execution_count": 16,
   "metadata": {},
   "outputs": [
    {
     "name": "stdout",
     "output_type": "stream",
     "text": [
      "210 tasks\n"
     ]
    },
    {
     "name": "stderr",
     "output_type": "stream",
     "text": [
      "[Parallel(n_jobs=-1)]: Using backend LokyBackend with 12 concurrent workers.\n",
      "[Parallel(n_jobs=-1)]: Done   8 tasks      | elapsed:   51.0s\n",
      "[Parallel(n_jobs=-1)]: Done 104 tasks      | elapsed: 11.3min\n",
      "[Parallel(n_jobs=-1)]: Done 210 out of 210 | elapsed: 21.8min finished\n"
     ]
    }
   ],
   "source": [
    "mus = np.concatenate((np.logspace(-2,0.5,25),np.linspace(3.2,8,10)))\n",
    "shapesC = [TtauNL,TgNL,Teq1,Teq2,Teq3,TClock]\n",
    "tasks= [delayed(Fisher)(0.01,300,shapesC[i],TClock,mu,2,rtol=0.001) for i in range(len(shapesC)) for mu in mus]\n",
    "print(len(tasks),\"tasks\")\n",
    "dataClock = np.array(Parallel(n_jobs=n_jobs,verbose=3)(tasks))"
   ]
  },
  {
   "cell_type": "markdown",
   "metadata": {},
   "source": [
    "### Below we show the errorbars for the clock shape"
   ]
  },
  {
   "cell_type": "code",
   "execution_count": 17,
   "metadata": {},
   "outputs": [
    {
     "data": {
      "image/png": "[encoded data removed]",
      "text/plain": [
       "<Figure size 432x288 with 1 Axes>"
      ]
     },
     "metadata": {
      "needs_background": "light"
     },
     "output_type": "display_data"
    }
   ],
   "source": [
    "FishClock = np.zeros((len(mus),6,6))\n",
    "\n",
    "FishClock[:,:-1,:-1] = FishPrim\n",
    "\n",
    "a=0\n",
    "for i in range(6):\n",
    "    for j in range(len(mus)):\n",
    "        FishClock[j,-1,i] = FishClock[j,i,-1] = dataClock[a,0]\n",
    "        a+=1\n",
    "\n",
    "FishClockInv = np.linalg.inv(FishClock)\n",
    "\n",
    "#interpolate to make smooth plots\n",
    "FishClockint = interpolate(mus, FishClock[:,-1,-1]**(-1/2))\n",
    "FishClockInvint = interpolate(mus, FishClockInv[:,-1,-1]**(1/2))\n",
    "\n",
    "musplot = np.logspace(-2,np.log10(8),210)\n",
    "plt.semilogy(musplot,FishClockint(musplot),\"--\")\n",
    "plt.gca().set_prop_cycle(None)\n",
    "plt.semilogy(musplot,FishClockInvint(musplot))\n",
    "plt.grid(linestyle=\":\")\n",
    "plt.xlim(0,8)\n",
    "plt.ylim(6e-1,2e0)\n",
    "plt.xlabel(\"$\\\\mu$\")\n",
    "plt.ylabel(\"$\\\\sigma_f$\")\n",
    "plt.savefig(\"TClockError.pdf\",format='pdf',bbox_inches=\"tight\")\n",
    "plt.show()"
   ]
  },
  {
   "cell_type": "markdown",
   "metadata": {},
   "source": [
    "### and the overlaps with the common primordial shapes"
   ]
  },
  {
   "cell_type": "code",
   "execution_count": 19,
   "metadata": {},
   "outputs": [
    {
     "data": {
      "image/png": "[encoded data removed]",
      "text/plain": [
       "<Figure size 432x288 with 1 Axes>"
      ]
     },
     "metadata": {
      "needs_background": "light"
     },
     "output_type": "display_data"
    }
   ],
   "source": [
    "for shapei, shape in enumerate(shapesC):\n",
    "    inter = interpolate(mus, FishClock[:,shapei,-1]/np.sqrt(FishClock[:,shapei,shapei]*FishClock[:,-1,-1]))\n",
    "    plt.plot(musplot,inter(musplot))\n",
    "    \n",
    "plt.ylim(-1,1)\n",
    "plt.xlim(mus[0],mus[-1])\n",
    "plt.grid(linestyle=\":\")\n",
    "plt.xlabel(\"$\\\\mu$\")\n",
    "plt.legend(['$\\\\tau_{NL}^{loc}$','$g_{NL}^{loc}$','$g_{NL}^{\\dot{\\sigma}^4}$','$g_{NL}^{\\sigma^2(\\partial\\sigma)^2}$','$g_{NL}^{(\\partial \\sigma)^4}$'],ncol=3)\n",
    "plt.ylabel(\"$C$\")\n",
    "plt.savefig(\"TClockOverlap.pdf\",format='pdf',bbox_inches=\"tight\")\n",
    "plt.show()"
   ]
  },
  {
   "cell_type": "markdown",
   "metadata": {},
   "source": [
    "## Now look at the intermediate template"
   ]
  },
  {
   "cell_type": "code",
   "execution_count": null,
   "metadata": {},
   "outputs": [
    {
     "name": "stdout",
     "output_type": "stream",
     "text": [
      "72 tasks\n"
     ]
    },
    {
     "name": "stderr",
     "output_type": "stream",
     "text": [
      "[Parallel(n_jobs=-1)]: Using backend LokyBackend with 12 concurrent workers.\n",
      "[Parallel(n_jobs=-1)]: Done   1 tasks      | elapsed:  2.7min\n",
      "[Parallel(n_jobs=-1)]: Done   8 tasks      | elapsed:  3.1min\n",
      "[Parallel(n_jobs=-1)]: Done  17 tasks      | elapsed:  5.3min\n",
      "[Parallel(n_jobs=-1)]: Done  26 tasks      | elapsed:  7.8min\n",
      "[Parallel(n_jobs=-1)]: Done  37 tasks      | elapsed: 11.4min\n",
      "[Parallel(n_jobs=-1)]: Done  48 tasks      | elapsed: 11.6min\n",
      "[Parallel(n_jobs=-1)]: Done  57 out of  72 | elapsed: 13.1min remaining:  3.4min\n",
      "[Parallel(n_jobs=-1)]: Done  65 out of  72 | elapsed: 13.1min remaining:  1.4min\n",
      "[pg-node263:31511] PMIX ERROR: UNPACK-PAST-END in file src/client/pmix_client.c at line 100\n",
      "Process LokyProcess-45:\n",
      "ERROR:root:Internal Python error in the inspect module.\n",
      "Below is the traceback from this internal error.\n",
      "\n",
      "Traceback (most recent call last):\n",
      "  File \"/software/software/Python/3.9.5-GCCcore-10.3.0/lib/python3.9/site-packages/joblib/_parallel_backends.py\", line 595, in __call__\n",
      "    return self.func(*args, **kwargs)\n",
      "  File \"/software/software/Python/3.9.5-GCCcore-10.3.0/lib/python3.9/site-packages/joblib/parallel.py\", line 262, in __call__\n",
      "    return [func(*args, **kwargs)\n",
      "  File \"/software/software/Python/3.9.5-GCCcore-10.3.0/lib/python3.9/site-packages/joblib/parallel.py\", line 262, in <listcomp>\n",
      "    return [func(*args, **kwargs)\n",
      "  File \"/local/tmp/ipykernel_26855/1933275516.py\", line 65, in Fisher\n",
      "  File \"_vegas.pyx\", line 1628, in vegas._vegas.Integrator.__call__\n",
      "  File \"_vegas.pyx\", line 2455, in vegas._vegas._BatchIntegrand_from_Batch.__call__\n",
      "  File \"/local/tmp/ipykernel_26855/1933275516.py\", line 61, in integrandbatch\n",
      "  File \"/local/tmp/ipykernel_26855/1933275516.py\", line 42, in integrand\n",
      "  File \"/home/p301831/PhD/21-cm-Dark-Ages-Fisher-Forecast/Trispectrum/Primordial Forecasts/trispectra.py\", line 95, in Tint\n",
      "    return  (TintPerm(k1,k2,k3,k4,K12,mu,alpha0) + TintPerm(k1,k3,k3,k4,K13,mu,alpha0) + TintPerm(k1,k4,k2,k4,K14,mu,alpha0))\n",
      "  File \"/home/p301831/PhD/21-cm-Dark-Ages-Fisher-Forecast/Trispectrum/Primordial Forecasts/trispectra.py\", line 81, in TintPerm\n",
      "    P4 = P(k4)\n",
      "  File \"/home/p301831/PhD/21-cm-Dark-Ages-Fisher-Forecast/Trispectrum/Primordial Forecasts/powerspectrum.py\", line 12, in P\n",
      "    return np.power(k,ns-4.)*pfactor\n",
      "KeyboardInterrupt\n",
      "\n",
      "The above exception was the direct cause of the following exception:\n",
      "\n",
      "Traceback (most recent call last):\n",
      "  File \"/software/software/Python/3.9.5-GCCcore-10.3.0/lib/python3.9/site-packages/joblib/externals/loky/process_executor.py\", line 431, in _process_worker\n",
      "    r = call_item()\n",
      "  File \"/software/software/Python/3.9.5-GCCcore-10.3.0/lib/python3.9/site-packages/joblib/externals/loky/process_executor.py\", line 285, in __call__\n",
      "    return self.fn(*self.args, **self.kwargs)\n",
      "  File \"/software/software/Python/3.9.5-GCCcore-10.3.0/lib/python3.9/site-packages/joblib/_parallel_backends.py\", line 600, in __call__\n",
      "    raise WorkerInterrupt() from e\n",
      "joblib.my_exceptions.WorkerInterrupt\n",
      "\n",
      "During handling of the above exception, another exception occurred:\n",
      "\n",
      "Traceback (most recent call last):\n",
      "  File \"/software/software/Python/3.9.5-GCCcore-10.3.0/lib/python3.9/multiprocessing/process.py\", line 315, in _bootstrap\n",
      "    self.run()\n",
      "  File \"/software/software/Python/3.9.5-GCCcore-10.3.0/lib/python3.9/multiprocessing/process.py\", line 108, in run\n",
      "    self._target(*self._args, **self._kwargs)\n",
      "  File \"/software/software/Python/3.9.5-GCCcore-10.3.0/lib/python3.9/site-packages/joblib/externals/loky/process_executor.py\", line 434, in _process_worker\n",
      "    result_queue.put(_ResultItem(call_item.work_id, exception=exc))\n",
      "  File \"/software/software/Python/3.9.5-GCCcore-10.3.0/lib/python3.9/site-packages/joblib/externals/loky/backend/queues.py\", line 247, in put\n",
      "    self._writer.send_bytes(obj)\n",
      "  File \"/software/software/Python/3.9.5-GCCcore-10.3.0/lib/python3.9/multiprocessing/connection.py\", line 205, in send_bytes\n",
      "    self._send_bytes(m[offset:offset + size])\n",
      "  File \"/software/software/Python/3.9.5-GCCcore-10.3.0/lib/python3.9/multiprocessing/connection.py\", line 416, in _send_bytes\n",
      "    self._send(header + buf)\n",
      "  File \"/software/software/Python/3.9.5-GCCcore-10.3.0/lib/python3.9/multiprocessing/connection.py\", line 373, in _send\n",
      "    n = write(self._handle, buf)\n",
      "KeyboardInterrupt\n",
      "[pg-node263:31511] [[45617,1],0] ORTE_ERROR_LOG: Unreachable in file runtime/ompi_mpi_finalize.c at line 262\n",
      "ERROR:root:Internal Python error in the inspect module.\n",
      "Below is the traceback from this internal error.\n",
      "\n"
     ]
    },
    {
     "name": "stdout",
     "output_type": "stream",
     "text": [
      "Traceback (most recent call last):\n",
      "  File \"/software/software/Python/3.9.5-GCCcore-10.3.0/lib/python3.9/site-packages/joblib/parallel.py\", line 933, in retrieve\n",
      "    self._output.extend(job.get(timeout=self.timeout))\n",
      "  File \"/software/software/Python/3.9.5-GCCcore-10.3.0/lib/python3.9/site-packages/joblib/_parallel_backends.py\", line 542, in wrap_future_result\n",
      "    return future.result(timeout=timeout)\n",
      "  File \"/software/software/Python/3.9.5-GCCcore-10.3.0/lib/python3.9/concurrent/futures/_base.py\", line 440, in result\n",
      "    self._condition.wait(timeout)\n",
      "  File \"/software/software/Python/3.9.5-GCCcore-10.3.0/lib/python3.9/threading.py\", line 312, in wait\n",
      "    waiter.acquire()\n",
      "KeyboardInterrupt\n",
      "\n",
      "During handling of the above exception, another exception occurred:\n",
      "\n",
      "Traceback (most recent call last):\n",
      "  File \"/software/software/IPython/7.25.0-GCCcore-10.3.0/lib/python3.9/site-packages/IPython/core/interactiveshell.py\", line 3441, in run_code\n",
      "    exec(code_obj, self.user_global_ns, self.user_ns)\n",
      "  File \"/local/tmp/ipykernel_26855/1164562725.py\", line 5, in <module>\n",
      "    dataInt = np.array(Parallel(n_jobs=n_jobs,verbose=10)(tasks))\n",
      "  File \"/software/software/Python/3.9.5-GCCcore-10.3.0/lib/python3.9/site-packages/joblib/parallel.py\", line 1054, in __call__\n",
      "    self.retrieve()\n",
      "  File \"/software/software/Python/3.9.5-GCCcore-10.3.0/lib/python3.9/site-packages/joblib/parallel.py\", line 955, in retrieve\n",
      "    backend.abort_everything(ensure_ready=ensure_ready)\n",
      "  File \"/software/software/Python/3.9.5-GCCcore-10.3.0/lib/python3.9/site-packages/joblib/_parallel_backends.py\", line 561, in abort_everything\n",
      "    self._workers.terminate(kill_workers=True)\n",
      "  File \"/software/software/Python/3.9.5-GCCcore-10.3.0/lib/python3.9/site-packages/joblib/executor.py\", line 74, in terminate\n",
      "    self.shutdown(kill_workers=kill_workers)\n",
      "  File \"/software/software/Python/3.9.5-GCCcore-10.3.0/lib/python3.9/site-packages/joblib/externals/loky/process_executor.py\", line 1171, in shutdown\n",
      "    executor_manager_thread.join()\n",
      "  File \"/software/software/Python/3.9.5-GCCcore-10.3.0/lib/python3.9/threading.py\", line 1033, in join\n",
      "    self._wait_for_tstate_lock()\n",
      "  File \"/software/software/Python/3.9.5-GCCcore-10.3.0/lib/python3.9/threading.py\", line 1049, in _wait_for_tstate_lock\n",
      "    elif lock.acquire(block, timeout):\n",
      "KeyboardInterrupt\n",
      "\n",
      "During handling of the above exception, another exception occurred:\n",
      "\n",
      "Traceback (most recent call last):\n",
      "  File \"/software/software/IPython/7.25.0-GCCcore-10.3.0/lib/python3.9/site-packages/IPython/core/interactiveshell.py\", line 2061, in showtraceback\n",
      "    stb = value._render_traceback_()\n",
      "AttributeError: 'KeyboardInterrupt' object has no attribute '_render_traceback_'\n",
      "\n",
      "During handling of the above exception, another exception occurred:\n",
      "\n",
      "Traceback (most recent call last):\n",
      "  File \"/software/software/IPython/7.25.0-GCCcore-10.3.0/lib/python3.9/site-packages/IPython/core/ultratb.py\", line 1101, in get_records\n",
      "    return _fixed_getinnerframes(etb, number_of_lines_of_context, tb_offset)\n",
      "  File \"/software/software/IPython/7.25.0-GCCcore-10.3.0/lib/python3.9/site-packages/IPython/core/ultratb.py\", line 248, in wrapped\n",
      "    return f(*args, **kwargs)\n",
      "  File \"/software/software/IPython/7.25.0-GCCcore-10.3.0/lib/python3.9/site-packages/IPython/core/ultratb.py\", line 281, in _fixed_getinnerframes\n",
      "    records = fix_frame_records_filenames(inspect.getinnerframes(etb, context))\n",
      "  File \"/software/software/Python/3.9.5-GCCcore-10.3.0/lib/python3.9/inspect.py\", line 1541, in getinnerframes\n",
      "    frameinfo = (tb.tb_frame,) + getframeinfo(tb, context)\n",
      "  File \"/software/software/Python/3.9.5-GCCcore-10.3.0/lib/python3.9/inspect.py\", line 1499, in getframeinfo\n",
      "    filename = getsourcefile(frame) or getfile(frame)\n",
      "  File \"/software/software/Python/3.9.5-GCCcore-10.3.0/lib/python3.9/inspect.py\", line 709, in getsourcefile\n",
      "    if getattr(getmodule(object, filename), '__loader__', None) is not None:\n",
      "  File \"/software/software/Python/3.9.5-GCCcore-10.3.0/lib/python3.9/inspect.py\", line 752, in getmodule\n",
      "    f = getabsfile(module)\n",
      "  File \"/software/software/Python/3.9.5-GCCcore-10.3.0/lib/python3.9/inspect.py\", line 721, in getabsfile\n",
      "    _filename = getsourcefile(object) or getfile(object)\n",
      "  File \"/software/software/Python/3.9.5-GCCcore-10.3.0/lib/python3.9/inspect.py\", line 706, in getsourcefile\n",
      "    if os.path.exists(filename):\n",
      "  File \"/software/software/Python/3.9.5-GCCcore-10.3.0/lib/python3.9/genericpath.py\", line 19, in exists\n",
      "    os.stat(path)\n",
      "KeyboardInterrupt\n",
      "Traceback (most recent call last):\n",
      "  File \"/software/software/Python/3.9.5-GCCcore-10.3.0/lib/python3.9/site-packages/joblib/externals/loky/process_executor.py\", line 404, in _process_worker\n",
      "    call_item = call_queue.get(block=True, timeout=timeout)\n",
      "  File \"/software/software/Python/3.9.5-GCCcore-10.3.0/lib/python3.9/multiprocessing/queues.py\", line 108, in get\n",
      "    if not self._rlock.acquire(block, timeout):\n",
      "KeyboardInterrupt\n",
      "\n",
      "Traceback (most recent call last):\n",
      "  File \"/software/software/Python/3.9.5-GCCcore-10.3.0/lib/python3.9/site-packages/joblib/externals/loky/process_executor.py\", line 404, in _process_worker\n",
      "    call_item = call_queue.get(block=True, timeout=timeout)\n",
      "  File \"/software/software/Python/3.9.5-GCCcore-10.3.0/lib/python3.9/multiprocessing/queues.py\", line 113, in get\n",
      "    if not self._poll(timeout):\n",
      "  File \"/software/software/Python/3.9.5-GCCcore-10.3.0/lib/python3.9/multiprocessing/connection.py\", line 262, in poll\n",
      "    return self._poll(timeout)\n",
      "  File \"/software/software/Python/3.9.5-GCCcore-10.3.0/lib/python3.9/multiprocessing/connection.py\", line 429, in _poll\n",
      "    r = wait([self], timeout)\n",
      "  File \"/software/software/Python/3.9.5-GCCcore-10.3.0/lib/python3.9/multiprocessing/connection.py\", line 936, in wait\n",
      "    ready = selector.select(timeout)\n",
      "  File \"/software/software/Python/3.9.5-GCCcore-10.3.0/lib/python3.9/selectors.py\", line 416, in select\n",
      "    fd_event_list = self._selector.poll(timeout)\n",
      "KeyboardInterrupt\n",
      "\n",
      "Traceback (most recent call last):\n",
      "  File \"/software/software/Python/3.9.5-GCCcore-10.3.0/lib/python3.9/site-packages/joblib/externals/loky/process_executor.py\", line 404, in _process_worker\n",
      "    call_item = call_queue.get(block=True, timeout=timeout)\n",
      "  File \"/software/software/Python/3.9.5-GCCcore-10.3.0/lib/python3.9/multiprocessing/queues.py\", line 108, in get\n",
      "    if not self._rlock.acquire(block, timeout):\n",
      "KeyboardInterrupt\n",
      "\n",
      "Traceback (most recent call last):\n",
      "  File \"/software/software/Python/3.9.5-GCCcore-10.3.0/lib/python3.9/site-packages/joblib/externals/loky/process_executor.py\", line 404, in _process_worker\n",
      "    call_item = call_queue.get(block=True, timeout=timeout)\n",
      "  File \"/software/software/Python/3.9.5-GCCcore-10.3.0/lib/python3.9/multiprocessing/queues.py\", line 108, in get\n",
      "    if not self._rlock.acquire(block, timeout):\n",
      "KeyboardInterrupt\n",
      "\n",
      "Traceback (most recent call last):\n",
      "  File \"/software/software/Python/3.9.5-GCCcore-10.3.0/lib/python3.9/site-packages/joblib/externals/loky/process_executor.py\", line 404, in _process_worker\n",
      "    call_item = call_queue.get(block=True, timeout=timeout)\n",
      "  File \"/software/software/Python/3.9.5-GCCcore-10.3.0/lib/python3.9/multiprocessing/queues.py\", line 108, in get\n",
      "    if not self._rlock.acquire(block, timeout):\n",
      "KeyboardInterrupt\n",
      "\n",
      "Traceback (most recent call last):\n",
      "  File \"/software/software/Python/3.9.5-GCCcore-10.3.0/lib/python3.9/site-packages/joblib/externals/loky/process_executor.py\", line 404, in _process_worker\n",
      "    call_item = call_queue.get(block=True, timeout=timeout)\n",
      "  File \"/software/software/Python/3.9.5-GCCcore-10.3.0/lib/python3.9/multiprocessing/queues.py\", line 108, in get\n",
      "    if not self._rlock.acquire(block, timeout):\n",
      "KeyboardInterrupt\n",
      "\n",
      "Traceback (most recent call last):\n",
      "  File \"/software/software/Python/3.9.5-GCCcore-10.3.0/lib/python3.9/site-packages/joblib/externals/loky/process_executor.py\", line 404, in _process_worker\n",
      "    call_item = call_queue.get(block=True, timeout=timeout)\n",
      "  File \"/software/software/Python/3.9.5-GCCcore-10.3.0/lib/python3.9/multiprocessing/queues.py\", line 108, in get\n",
      "    if not self._rlock.acquire(block, timeout):\n",
      "KeyboardInterrupt\n",
      "\n",
      "Traceback (most recent call last):\n",
      "  File \"/software/software/Python/3.9.5-GCCcore-10.3.0/lib/python3.9/site-packages/joblib/externals/loky/process_executor.py\", line 404, in _process_worker\n",
      "    call_item = call_queue.get(block=True, timeout=timeout)\n",
      "  File \"/software/software/Python/3.9.5-GCCcore-10.3.0/lib/python3.9/multiprocessing/queues.py\", line 108, in get\n",
      "    if not self._rlock.acquire(block, timeout):\n",
      "KeyboardInterrupt\n",
      "\n"
     ]
    },
    {
     "name": "stderr",
     "output_type": "stream",
     "text": [
      "[pg-node263:31510] PMIX ERROR: UNPACK-PAST-END in file src/client/pmix_client.c at line 100\n",
      "[pg-node263:31510] [[45616,1],0] ORTE_ERROR_LOG: Unreachable in file runtime/ompi_mpi_finalize.c at line 262\n",
      "ERROR:root:Internal Python error in the inspect module.\n",
      "Below is the traceback from this internal error.\n",
      "\n"
     ]
    },
    {
     "name": "stdout",
     "output_type": "stream",
     "text": [
      "Traceback (most recent call last):\n",
      "  File \"/software/software/Python/3.9.5-GCCcore-10.3.0/lib/python3.9/site-packages/joblib/parallel.py\", line 933, in retrieve\n",
      "    self._output.extend(job.get(timeout=self.timeout))\n",
      "  File \"/software/software/Python/3.9.5-GCCcore-10.3.0/lib/python3.9/site-packages/joblib/_parallel_backends.py\", line 542, in wrap_future_result\n",
      "    return future.result(timeout=timeout)\n",
      "  File \"/software/software/Python/3.9.5-GCCcore-10.3.0/lib/python3.9/concurrent/futures/_base.py\", line 440, in result\n",
      "    self._condition.wait(timeout)\n",
      "  File \"/software/software/Python/3.9.5-GCCcore-10.3.0/lib/python3.9/threading.py\", line 312, in wait\n",
      "    waiter.acquire()\n",
      "KeyboardInterrupt\n",
      "\n",
      "During handling of the above exception, another exception occurred:\n",
      "\n",
      "Traceback (most recent call last):\n",
      "  File \"/software/software/IPython/7.25.0-GCCcore-10.3.0/lib/python3.9/site-packages/IPython/core/interactiveshell.py\", line 3441, in run_code\n",
      "    exec(code_obj, self.user_global_ns, self.user_ns)\n",
      "  File \"/local/tmp/ipykernel_26855/1164562725.py\", line 5, in <module>\n",
      "    dataInt = np.array(Parallel(n_jobs=n_jobs,verbose=10)(tasks))\n",
      "  File \"/software/software/Python/3.9.5-GCCcore-10.3.0/lib/python3.9/site-packages/joblib/parallel.py\", line 1054, in __call__\n",
      "    self.retrieve()\n",
      "  File \"/software/software/Python/3.9.5-GCCcore-10.3.0/lib/python3.9/site-packages/joblib/parallel.py\", line 955, in retrieve\n",
      "    backend.abort_everything(ensure_ready=ensure_ready)\n",
      "  File \"/software/software/Python/3.9.5-GCCcore-10.3.0/lib/python3.9/site-packages/joblib/_parallel_backends.py\", line 561, in abort_everything\n",
      "    self._workers.terminate(kill_workers=True)\n",
      "  File \"/software/software/Python/3.9.5-GCCcore-10.3.0/lib/python3.9/site-packages/joblib/executor.py\", line 74, in terminate\n",
      "    self.shutdown(kill_workers=kill_workers)\n",
      "  File \"/software/software/Python/3.9.5-GCCcore-10.3.0/lib/python3.9/site-packages/joblib/externals/loky/process_executor.py\", line 1171, in shutdown\n",
      "    executor_manager_thread.join()\n",
      "  File \"/software/software/Python/3.9.5-GCCcore-10.3.0/lib/python3.9/threading.py\", line 1033, in join\n",
      "    self._wait_for_tstate_lock()\n",
      "  File \"/software/software/Python/3.9.5-GCCcore-10.3.0/lib/python3.9/threading.py\", line 1049, in _wait_for_tstate_lock\n",
      "    elif lock.acquire(block, timeout):\n",
      "KeyboardInterrupt\n",
      "\n",
      "During handling of the above exception, another exception occurred:\n",
      "\n",
      "Traceback (most recent call last):\n",
      "  File \"/software/software/IPython/7.25.0-GCCcore-10.3.0/lib/python3.9/site-packages/IPython/core/interactiveshell.py\", line 2061, in showtraceback\n",
      "    stb = value._render_traceback_()\n",
      "AttributeError: 'KeyboardInterrupt' object has no attribute '_render_traceback_'\n",
      "\n",
      "During handling of the above exception, another exception occurred:\n",
      "\n",
      "Traceback (most recent call last):\n",
      "  File \"/software/software/IPython/7.25.0-GCCcore-10.3.0/lib/python3.9/site-packages/IPython/core/interactiveshell.py\", line 3361, in run_ast_nodes\n",
      "    if (await self.run_code(code, result,  async_=asy)):\n",
      "  File \"/software/software/IPython/7.25.0-GCCcore-10.3.0/lib/python3.9/site-packages/IPython/core/interactiveshell.py\", line 3458, in run_code\n",
      "    self.showtraceback(running_compiled_code=True)\n",
      "  File \"/software/software/IPython/7.25.0-GCCcore-10.3.0/lib/python3.9/site-packages/IPython/core/interactiveshell.py\", line 2063, in showtraceback\n",
      "    stb = self.InteractiveTB.structured_traceback(etype,\n",
      "  File \"/software/software/IPython/7.25.0-GCCcore-10.3.0/lib/python3.9/site-packages/IPython/core/ultratb.py\", line 1367, in structured_traceback\n",
      "    return FormattedTB.structured_traceback(\n",
      "  File \"/software/software/IPython/7.25.0-GCCcore-10.3.0/lib/python3.9/site-packages/IPython/core/ultratb.py\", line 1267, in structured_traceback\n",
      "    return VerboseTB.structured_traceback(\n",
      "  File \"/software/software/IPython/7.25.0-GCCcore-10.3.0/lib/python3.9/site-packages/IPython/core/ultratb.py\", line 1124, in structured_traceback\n",
      "    formatted_exception = self.format_exception_as_a_whole(etype, evalue, etb, number_of_lines_of_context,\n",
      "  File \"/software/software/IPython/7.25.0-GCCcore-10.3.0/lib/python3.9/site-packages/IPython/core/ultratb.py\", line 1082, in format_exception_as_a_whole\n",
      "    last_unique, recursion_repeat = find_recursion(orig_etype, evalue, records)\n",
      "  File \"/software/software/IPython/7.25.0-GCCcore-10.3.0/lib/python3.9/site-packages/IPython/core/ultratb.py\", line 382, in find_recursion\n",
      "    return len(records), 0\n",
      "TypeError: object of type 'NoneType' has no len()\n",
      "\n",
      "During handling of the above exception, another exception occurred:\n",
      "\n",
      "Traceback (most recent call last):\n",
      "  File \"/software/software/IPython/7.25.0-GCCcore-10.3.0/lib/python3.9/site-packages/IPython/core/interactiveshell.py\", line 2061, in showtraceback\n",
      "    stb = value._render_traceback_()\n",
      "AttributeError: 'TypeError' object has no attribute '_render_traceback_'\n",
      "\n",
      "During handling of the above exception, another exception occurred:\n",
      "\n",
      "Traceback (most recent call last):\n",
      "  File \"/software/software/IPython/7.25.0-GCCcore-10.3.0/lib/python3.9/site-packages/IPython/core/ultratb.py\", line 1101, in get_records\n",
      "    return _fixed_getinnerframes(etb, number_of_lines_of_context, tb_offset)\n",
      "  File \"/software/software/IPython/7.25.0-GCCcore-10.3.0/lib/python3.9/site-packages/IPython/core/ultratb.py\", line 248, in wrapped\n",
      "    return f(*args, **kwargs)\n",
      "  File \"/software/software/IPython/7.25.0-GCCcore-10.3.0/lib/python3.9/site-packages/IPython/core/ultratb.py\", line 281, in _fixed_getinnerframes\n",
      "    records = fix_frame_records_filenames(inspect.getinnerframes(etb, context))\n",
      "  File \"/software/software/Python/3.9.5-GCCcore-10.3.0/lib/python3.9/inspect.py\", line 1541, in getinnerframes\n",
      "    frameinfo = (tb.tb_frame,) + getframeinfo(tb, context)\n",
      "  File \"/software/software/Python/3.9.5-GCCcore-10.3.0/lib/python3.9/inspect.py\", line 1499, in getframeinfo\n",
      "    filename = getsourcefile(frame) or getfile(frame)\n",
      "  File \"/software/software/Python/3.9.5-GCCcore-10.3.0/lib/python3.9/inspect.py\", line 709, in getsourcefile\n",
      "    if getattr(getmodule(object, filename), '__loader__', None) is not None:\n",
      "  File \"/software/software/Python/3.9.5-GCCcore-10.3.0/lib/python3.9/inspect.py\", line 752, in getmodule\n",
      "    f = getabsfile(module)\n",
      "  File \"/software/software/Python/3.9.5-GCCcore-10.3.0/lib/python3.9/inspect.py\", line 721, in getabsfile\n",
      "    _filename = getsourcefile(object) or getfile(object)\n",
      "  File \"/software/software/Python/3.9.5-GCCcore-10.3.0/lib/python3.9/inspect.py\", line 706, in getsourcefile\n",
      "    if os.path.exists(filename):\n",
      "  File \"/software/software/Python/3.9.5-GCCcore-10.3.0/lib/python3.9/genericpath.py\", line 19, in exists\n",
      "    os.stat(path)\n",
      "KeyboardInterrupt\n",
      "Traceback (most recent call last):\n",
      "  File \"/software/software/Python/3.9.5-GCCcore-10.3.0/lib/python3.9/site-packages/joblib/externals/loky/process_executor.py\", line 404, in _process_worker\n",
      "    call_item = call_queue.get(block=True, timeout=timeout)\n",
      "  File \"/software/software/Python/3.9.5-GCCcore-10.3.0/lib/python3.9/multiprocessing/queues.py\", line 108, in get\n",
      "    if not self._rlock.acquire(block, timeout):\n",
      "KeyboardInterrupt\n",
      "\n",
      "Traceback (most recent call last):\n",
      "  File \"/software/software/Python/3.9.5-GCCcore-10.3.0/lib/python3.9/site-packages/joblib/parallel.py\", line 933, in retrieve\n",
      "    self._output.extend(job.get(timeout=self.timeout))\n",
      "  File \"/software/software/Python/3.9.5-GCCcore-10.3.0/lib/python3.9/site-packages/joblib/_parallel_backends.py\", line 542, in wrap_future_result\n",
      "    return future.result(timeout=timeout)\n",
      "  File \"/software/software/Python/3.9.5-GCCcore-10.3.0/lib/python3.9/concurrent/futures/_base.py\", line 440, in result\n",
      "    self._condition.wait(timeout)\n",
      "  File \"/software/software/Python/3.9.5-GCCcore-10.3.0/lib/python3.9/threading.py\", line 312, in wait\n",
      "    waiter.acquire()\n",
      "KeyboardInterrupt\n",
      "\n",
      "During handling of the above exception, another exception occurred:\n",
      "\n",
      "Traceback (most recent call last):\n",
      "  File \"/software/software/IPython/7.25.0-GCCcore-10.3.0/lib/python3.9/site-packages/IPython/core/interactiveshell.py\", line 3441, in run_code\n",
      "    exec(code_obj, self.user_global_ns, self.user_ns)\n",
      "  File \"/local/tmp/ipykernel_26855/1164562725.py\", line 5, in <module>\n",
      "    dataInt = np.array(Parallel(n_jobs=n_jobs,verbose=10)(tasks))\n",
      "  File \"/software/software/Python/3.9.5-GCCcore-10.3.0/lib/python3.9/site-packages/joblib/parallel.py\", line 1054, in __call__\n",
      "    self.retrieve()\n",
      "  File \"/software/software/Python/3.9.5-GCCcore-10.3.0/lib/python3.9/site-packages/joblib/parallel.py\", line 955, in retrieve\n",
      "    backend.abort_everything(ensure_ready=ensure_ready)\n",
      "  File \"/software/software/Python/3.9.5-GCCcore-10.3.0/lib/python3.9/site-packages/joblib/_parallel_backends.py\", line 561, in abort_everything\n",
      "    self._workers.terminate(kill_workers=True)\n",
      "  File \"/software/software/Python/3.9.5-GCCcore-10.3.0/lib/python3.9/site-packages/joblib/executor.py\", line 74, in terminate\n",
      "    self.shutdown(kill_workers=kill_workers)\n",
      "  File \"/software/software/Python/3.9.5-GCCcore-10.3.0/lib/python3.9/site-packages/joblib/externals/loky/process_executor.py\", line 1171, in shutdown\n",
      "    executor_manager_thread.join()\n",
      "  File \"/software/software/Python/3.9.5-GCCcore-10.3.0/lib/python3.9/threading.py\", line 1033, in join\n",
      "    self._wait_for_tstate_lock()\n",
      "  File \"/software/software/Python/3.9.5-GCCcore-10.3.0/lib/python3.9/threading.py\", line 1049, in _wait_for_tstate_lock\n",
      "    elif lock.acquire(block, timeout):\n",
      "KeyboardInterrupt\n",
      "\n",
      "During handling of the above exception, another exception occurred:\n",
      "\n",
      "Traceback (most recent call last):\n",
      "  File \"/software/software/IPython/7.25.0-GCCcore-10.3.0/lib/python3.9/site-packages/IPython/core/interactiveshell.py\", line 2061, in showtraceback\n",
      "    stb = value._render_traceback_()\n",
      "AttributeError: 'KeyboardInterrupt' object has no attribute '_render_traceback_'\n",
      "\n",
      "During handling of the above exception, another exception occurred:\n",
      "\n",
      "Traceback (most recent call last):\n",
      "  File \"/software/software/IPython/7.25.0-GCCcore-10.3.0/lib/python3.9/site-packages/IPython/core/interactiveshell.py\", line 3361, in run_ast_nodes\n",
      "    if (await self.run_code(code, result,  async_=asy)):\n",
      "  File \"/software/software/IPython/7.25.0-GCCcore-10.3.0/lib/python3.9/site-packages/IPython/core/interactiveshell.py\", line 3458, in run_code\n",
      "    self.showtraceback(running_compiled_code=True)\n",
      "  File \"/software/software/IPython/7.25.0-GCCcore-10.3.0/lib/python3.9/site-packages/IPython/core/interactiveshell.py\", line 2063, in showtraceback\n",
      "    stb = self.InteractiveTB.structured_traceback(etype,\n",
      "  File \"/software/software/IPython/7.25.0-GCCcore-10.3.0/lib/python3.9/site-packages/IPython/core/ultratb.py\", line 1367, in structured_traceback\n",
      "    return FormattedTB.structured_traceback(\n",
      "  File \"/software/software/IPython/7.25.0-GCCcore-10.3.0/lib/python3.9/site-packages/IPython/core/ultratb.py\", line 1267, in structured_traceback\n",
      "    return VerboseTB.structured_traceback(\n",
      "  File \"/software/software/IPython/7.25.0-GCCcore-10.3.0/lib/python3.9/site-packages/IPython/core/ultratb.py\", line 1124, in structured_traceback\n",
      "    formatted_exception = self.format_exception_as_a_whole(etype, evalue, etb, number_of_lines_of_context,\n",
      "  File \"/software/software/IPython/7.25.0-GCCcore-10.3.0/lib/python3.9/site-packages/IPython/core/ultratb.py\", line 1082, in format_exception_as_a_whole\n",
      "    last_unique, recursion_repeat = find_recursion(orig_etype, evalue, records)\n",
      "  File \"/software/software/IPython/7.25.0-GCCcore-10.3.0/lib/python3.9/site-packages/IPython/core/ultratb.py\", line 382, in find_recursion\n",
      "    return len(records), 0\n",
      "TypeError: object of type 'NoneType' has no len()\n",
      "\n",
      "During handling of the above exception, another exception occurred:\n",
      "\n",
      "Traceback (most recent call last):\n",
      "  File \"/software/software/IPython/7.25.0-GCCcore-10.3.0/lib/python3.9/site-packages/IPython/core/interactiveshell.py\", line 2061, in showtraceback\n",
      "    stb = value._render_traceback_()\n",
      "AttributeError: 'TypeError' object has no attribute '_render_traceback_'\n",
      "\n",
      "During handling of the above exception, another exception occurred:\n",
      "\n",
      "Traceback (most recent call last):\n",
      "  File \"/software/software/IPython/7.25.0-GCCcore-10.3.0/lib/python3.9/site-packages/IPython/core/interactiveshell.py\", line 2944, in _run_cell\n",
      "    return runner(coro)\n",
      "  File \"/software/software/IPython/7.25.0-GCCcore-10.3.0/lib/python3.9/site-packages/IPython/core/async_helpers.py\", line 68, in _pseudo_sync_runner\n",
      "    coro.send(None)\n",
      "  File \"/software/software/IPython/7.25.0-GCCcore-10.3.0/lib/python3.9/site-packages/IPython/core/interactiveshell.py\", line 3169, in run_cell_async\n",
      "    has_raised = await self.run_ast_nodes(code_ast.body, cell_name,\n",
      "  File \"/software/software/IPython/7.25.0-GCCcore-10.3.0/lib/python3.9/site-packages/IPython/core/interactiveshell.py\", line 3380, in run_ast_nodes\n",
      "    self.showtraceback()\n",
      "  File \"/software/software/IPython/7.25.0-GCCcore-10.3.0/lib/python3.9/site-packages/IPython/core/interactiveshell.py\", line 2063, in showtraceback\n",
      "    stb = self.InteractiveTB.structured_traceback(etype,\n",
      "  File \"/software/software/IPython/7.25.0-GCCcore-10.3.0/lib/python3.9/site-packages/IPython/core/ultratb.py\", line 1367, in structured_traceback\n",
      "    return FormattedTB.structured_traceback(\n",
      "  File \"/software/software/IPython/7.25.0-GCCcore-10.3.0/lib/python3.9/site-packages/IPython/core/ultratb.py\", line 1267, in structured_traceback\n",
      "    return VerboseTB.structured_traceback(\n",
      "  File \"/software/software/IPython/7.25.0-GCCcore-10.3.0/lib/python3.9/site-packages/IPython/core/ultratb.py\", line 1142, in structured_traceback\n",
      "    formatted_exceptions += self.format_exception_as_a_whole(etype, evalue, etb, lines_of_context,\n",
      "  File \"/software/software/IPython/7.25.0-GCCcore-10.3.0/lib/python3.9/site-packages/IPython/core/ultratb.py\", line 1082, in format_exception_as_a_whole\n",
      "    last_unique, recursion_repeat = find_recursion(orig_etype, evalue, records)\n",
      "  File \"/software/software/IPython/7.25.0-GCCcore-10.3.0/lib/python3.9/site-packages/IPython/core/ultratb.py\", line 382, in find_recursion\n",
      "    return len(records), 0\n",
      "TypeError: object of type 'NoneType' has no len()\n",
      "\n",
      "During handling of the above exception, another exception occurred:\n",
      "\n",
      "Traceback (most recent call last):\n",
      "  File \"/software/software/IPython/7.25.0-GCCcore-10.3.0/lib/python3.9/site-packages/IPython/core/interactiveshell.py\", line 2061, in showtraceback\n",
      "    stb = value._render_traceback_()\n",
      "AttributeError: 'TypeError' object has no attribute '_render_traceback_'\n",
      "\n",
      "During handling of the above exception, another exception occurred:\n",
      "\n",
      "Traceback (most recent call last):\n",
      "  File \"/software/software/IPython/7.25.0-GCCcore-10.3.0/lib/python3.9/site-packages/IPython/core/ultratb.py\", line 1101, in get_records\n",
      "    return _fixed_getinnerframes(etb, number_of_lines_of_context, tb_offset)\n",
      "  File \"/software/software/IPython/7.25.0-GCCcore-10.3.0/lib/python3.9/site-packages/IPython/core/ultratb.py\", line 248, in wrapped\n",
      "    return f(*args, **kwargs)\n",
      "  File \"/software/software/IPython/7.25.0-GCCcore-10.3.0/lib/python3.9/site-packages/IPython/core/ultratb.py\", line 281, in _fixed_getinnerframes\n",
      "    records = fix_frame_records_filenames(inspect.getinnerframes(etb, context))\n",
      "  File \"/software/software/Python/3.9.5-GCCcore-10.3.0/lib/python3.9/inspect.py\", line 1541, in getinnerframes\n",
      "    frameinfo = (tb.tb_frame,) + getframeinfo(tb, context)\n",
      "  File \"/software/software/Python/3.9.5-GCCcore-10.3.0/lib/python3.9/inspect.py\", line 1499, in getframeinfo\n",
      "    filename = getsourcefile(frame) or getfile(frame)\n",
      "  File \"/software/software/Python/3.9.5-GCCcore-10.3.0/lib/python3.9/inspect.py\", line 709, in getsourcefile\n",
      "    if getattr(getmodule(object, filename), '__loader__', None) is not None:\n",
      "  File \"/software/software/Python/3.9.5-GCCcore-10.3.0/lib/python3.9/inspect.py\", line 752, in getmodule\n",
      "    f = getabsfile(module)\n",
      "  File \"/software/software/Python/3.9.5-GCCcore-10.3.0/lib/python3.9/inspect.py\", line 721, in getabsfile\n",
      "    _filename = getsourcefile(object) or getfile(object)\n",
      "  File \"/software/software/Python/3.9.5-GCCcore-10.3.0/lib/python3.9/inspect.py\", line 706, in getsourcefile\n",
      "    if os.path.exists(filename):\n",
      "  File \"/software/software/Python/3.9.5-GCCcore-10.3.0/lib/python3.9/genericpath.py\", line 19, in exists\n",
      "    os.stat(path)\n",
      "KeyboardInterrupt\n"
     ]
    }
   ],
   "source": [
    "nus = np.linspace(0,1.49,12)\n",
    "shapesC = [TtauNL,TgNL,Teq1,Teq2,Teq3,Tint]\n",
    "tasks= [delayed(Fisher)(0.01,300,shapesC[i],Tint,nu,2,rtol=1e-4) for i in range(len(shapesC)) for nu in nus]\n",
    "print(len(tasks),\"tasks\")\n",
    "dataInt = np.array(Parallel(n_jobs=n_jobs,verbose=10)(tasks))"
   ]
  },
  {
   "cell_type": "markdown",
   "metadata": {},
   "source": [
    "### below are the errorbars of the intermediate shape"
   ]
  },
  {
   "cell_type": "code",
   "execution_count": 25,
   "metadata": {},
   "outputs": [
    {
     "name": "stderr",
     "output_type": "stream",
     "text": [
      "/local/tmp/ipykernel_26855/1464691106.py:15: RuntimeWarning: invalid value encountered in sqrt\n",
      "  plt.semilogy(nus,FishIntInv[:,-1,-1]**(1/2))\n"
     ]
    },
    {
     "data": {
      "image/png": "[encoded data removed]",
      "text/plain": [
       "<Figure size 432x288 with 1 Axes>"
      ]
     },
     "metadata": {
      "needs_background": "light"
     },
     "output_type": "display_data"
    }
   ],
   "source": [
    "FishInt = np.zeros((len(nus),6,6))\n",
    "\n",
    "FishInt[:,:-1,:-1] = FishPrim\n",
    "\n",
    "a=0\n",
    "for i in range(6):\n",
    "    for j in range(len(nus)):\n",
    "        FishInt[j,-1,i] = FishInt[j,i,-1] = dataInt[a,0]\n",
    "        a+=1\n",
    "\n",
    "FishIntInv = np.linalg.inv(FishInt)\n",
    "\n",
    "plt.semilogy(nus,FishInt[:,-1,-1]**(-1/2),\"--\")\n",
    "plt.gca().set_prop_cycle(None)\n",
    "plt.semilogy(nus,FishIntInv[:,-1,-1]**(1/2))\n",
    "plt.xlim(nus[0],1.5)\n",
    "plt.grid(linestyle=\":\")\n",
    "plt.xlabel(\"$\\\\nu$\")\n",
    "plt.ylabel(\"$\\\\sigma_f$\")\n",
    "plt.xticks([0,0.25,0.5,0.75,1,1.25,1.5])\n",
    "plt.savefig(\"TIntError.pdf\",format='pdf',bbox_inches=\"tight\")\n",
    "plt.show()"
   ]
  },
  {
   "cell_type": "markdown",
   "metadata": {},
   "source": [
    "### and their overlaps"
   ]
  },
  {
   "cell_type": "code",
   "execution_count": 15,
   "metadata": {},
   "outputs": [
    {
     "data": {
      "image/png": "[encoded data removed]",
      "text/plain": [
       "<Figure size 432x288 with 1 Axes>"
      ]
     },
     "metadata": {
      "needs_background": "light"
     },
     "output_type": "display_data"
    }
   ],
   "source": [
    "nusplot = np.linspace(0,1.49,100)\n",
    "\n",
    "for shapei, shape in enumerate(shapesC):\n",
    "    inter = interpolate(nus, FishInt[:,shapei,-1]/np.sqrt(FishInt[:,shapei,shapei]*FishInt[:,-1,-1]))\n",
    "    plt.plot(nusplot,inter(nusplot))\n",
    "    \n",
    "plt.ylim(-1,1)\n",
    "plt.xlim(nus[0],nus[-1])\n",
    "plt.grid(linestyle=\":\")\n",
    "plt.xlabel(\"$\\\\nu$\")\n",
    "plt.legend(['$\\\\tau_{NL}^{loc}$','$g_{NL}^{loc}$','$g_{NL}^{\\dot{\\sigma}^4}$','$g_{NL}^{\\sigma^2(\\partial\\sigma)^2}$','$g_{NL}^{(\\partial \\sigma)^4}$'],ncol=3)\n",
    "plt.ylabel(\"$C$\")\n",
    "plt.xticks([0,0.25,0.5,0.75,1,1.25,1.5])\n",
    "plt.savefig(\"TIntOverlap.pdf\",format='pdf',bbox_inches=\"tight\")\n",
    "plt.show()"
   ]
  },
  {
   "cell_type": "markdown",
   "metadata": {},
   "source": [
    "## We can also check the enhanced scaling of the intermediate trispectrum  (Kalaja et al. 2020)"
   ]
  },
  {
   "cell_type": "code",
   "execution_count": 144,
   "metadata": {},
   "outputs": [
    {
     "name": "stderr",
     "output_type": "stream",
     "text": [
      "[Parallel(n_jobs=-1)]: Using backend LokyBackend with 28 concurrent workers.\n",
      "[Parallel(n_jobs=-1)]: Done   8 out of   8 | elapsed:   31.5s finished\n"
     ]
    }
   ],
   "source": [
    "nus = np.array([0,0.25,0.5,0.74,0.75,1,1.25,3/2])\n",
    "def scaling(nu):\n",
    "    ks = np.array([1,10,100])\n",
    "    test = [Fisher(0.01,k,Tint,Tint,nu,2,rtol=1e-1) for k in ks]\n",
    "    fit = np.polyfit(np.log10(ks),np.log10(test),1)\n",
    "    return fit[0]\n",
    "\n",
    "scaling_results = np.array(Parallel(n_jobs=-1,verbose=1)([delayed(scaling)(nu) for nu in nus]))\n",
    "\n",
    "def analytic_scaling(nu):\n",
    "    if nu < 3/4:\n",
    "        return 3\n",
    "    if nu == 3/4:\n",
    "        return 3.1358250956502904\n",
    "    if nu > 3/4:\n",
    "        return 3 + 3 - 4*(3/2 - nu)\n",
    "    \n",
    "f = [analytic_scaling(nu) for nu in nus]"
   ]
  },
  {
   "cell_type": "code",
   "execution_count": 146,
   "metadata": {},
   "outputs": [
    {
     "data": {
      "image/png": "[encoded data removed]",
      "text/plain": [
       "<Figure size 432x288 with 1 Axes>"
      ]
     },
     "metadata": {
      "needs_background": "light"
     },
     "output_type": "display_data"
    }
   ],
   "source": [
    "plt.plot(nus,f,linewidth=4)\n",
    "plt.plot(nus,scaling_results)\n",
    "plt.xticks([0,0.25,0.5,0.75,1,1.25,1.5])\n",
    "plt.grid(linestyle=':')\n",
    "plt.xlabel('$\\\\nu$')\n",
    "plt.ylabel('$\\\\log_{k_{max}}(F_{00})$')\n",
    "plt.ylim(2.75,6)\n",
    "plt.xlim(0,3/2)\n",
    "plt.savefig(\"EnhancedScaling.pdf\",format='pdf',bbox_inches=\"tight\")\n",
    "plt.show()"
   ]
  },
  {
   "cell_type": "code",
   "execution_count": null,
   "metadata": {},
   "outputs": [],
   "source": []
  }
 ],
 "metadata": {
  "interpreter": {
   "hash": "2ee2d5a72a36a42754000a76e96f9605fd7d09e16cf168b36d4c4b007a750a6a"
  },
  "kernelspec": {
   "display_name": "Python 3 (ipykernel)",
   "language": "python",
   "name": "python3"
  },
  "language_info": {
   "codemirror_mode": {
    "name": "ipython",
    "version": 3
   },
   "file_extension": ".py",
   "mimetype": "text/x-python",
   "name": "python",
   "nbconvert_exporter": "python",
   "pygments_lexer": "ipython3",
   "version": "3.9.5"
  }
 },
 "nbformat": 4,
 "nbformat_minor": 4
}
